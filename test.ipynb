{
 "cells": [
  {
   "cell_type": "code",
   "execution_count": 1,
   "metadata": {},
   "outputs": [],
   "source": [
    "import torch\n",
    "import torchvision.models as models\n",
    "import torch.nn as nn\n",
    "import torch.nn.functional as F"
   ]
  },
  {
   "cell_type": "code",
   "execution_count": 2,
   "metadata": {},
   "outputs": [],
   "source": [
    "#seed\n",
    "torch.manual_seed(0)\n",
    "torch.cuda.manual_seed(0)\n",
    "torch.backends.cudnn.deterministic = True\n",
    "torch.backends.cudnn.benchmark = False"
   ]
  },
  {
   "cell_type": "code",
   "execution_count": 3,
   "metadata": {},
   "outputs": [],
   "source": [
    "model = models.resnet50()\n",
    "model.fc = nn.Identity()\n",
    "optimizer = torch.optim.SGD(model.parameters(), lr=0.2, momentum=0.9, weight_decay=0, nesterov=True)"
   ]
  },
  {
   "cell_type": "code",
   "execution_count": 4,
   "metadata": {},
   "outputs": [],
   "source": [
    "model = model.cuda()\n",
    "idx = torch.randperm(128).cuda()\n",
    "x = torch.randn(128, 3, 224, 224).cuda()\n",
    "y = torch.randn(128, 2048).cuda()"
   ]
  },
  {
   "cell_type": "code",
   "execution_count": 5,
   "metadata": {},
   "outputs": [
    {
     "name": "stdout",
     "output_type": "stream",
     "text": [
      "single forward pass\n",
      "loss1: 1.0347, loss2: 2.1001, loss: 3.1349\n",
      "loss1: 1.0329, loss2: 2.0982, loss: 3.1311\n",
      "loss1: 1.0304, loss2: 2.0929, loss: 3.1233\n",
      "loss1: 1.0268, loss2: 2.0860, loss: 3.1128\n",
      "loss1: 1.0226, loss2: 2.0767, loss: 3.0992\n",
      "loss1: 1.0177, loss2: 2.0654, loss: 3.0831\n",
      "loss1: 1.0123, loss2: 2.0536, loss: 3.0659\n",
      "loss1: 1.0053, loss2: 2.0404, loss: 3.0457\n",
      "loss1: 0.9972, loss2: 2.0242, loss: 3.0214\n",
      "loss1: 0.9859, loss2: 2.0005, loss: 2.9864\n"
     ]
    }
   ],
   "source": [
    "print(\"single forward pass\")\n",
    "for _ in range(10):\n",
    "    z1 = model(x)\n",
    "    loss1 = torch.mean(z1)\n",
    "    loss2 = F.mse_loss(z1, y)\n",
    "    loss = loss1 + loss2\n",
    "    print(f\"loss1: {loss1.item():.4f}, loss2: {loss2.item():.4f}, loss: {loss.item():.4f}\")\n",
    "    \n",
    "    optimizer.zero_grad()\n",
    "    loss.backward()\n",
    "    optimizer.step()"
   ]
  },
  {
   "cell_type": "code",
   "execution_count": 6,
   "metadata": {},
   "outputs": [
    {
     "name": "stdout",
     "output_type": "stream",
     "text": [
      "double forward pass\n",
      "loss1: 1.0347, loss2: 2.1001, loss: 3.1349\n",
      "loss1: 1.0328, loss2: 2.0982, loss: 3.1311\n",
      "loss1: 1.0303, loss2: 2.0923, loss: 3.1227\n",
      "loss1: 1.0268, loss2: 2.0860, loss: 3.1128\n",
      "loss1: 1.0225, loss2: 2.0763, loss: 3.0988\n",
      "loss1: 1.0176, loss2: 2.0659, loss: 3.0835\n",
      "loss1: 1.0119, loss2: 2.0546, loss: 3.0665\n",
      "loss1: 1.0045, loss2: 2.0381, loss: 3.0426\n",
      "loss1: 0.9952, loss2: 2.0197, loss: 3.0149\n",
      "loss1: 0.9793, loss2: 1.9920, loss: 2.9713\n"
     ]
    }
   ],
   "source": [
    "print(\"double forward pass\")\n",
    "for _ in range(10):\n",
    "    z1 = model(x)\n",
    "    z2 = model(x)\n",
    "    loss1 = torch.mean(z1)\n",
    "    loss2 = F.mse_loss(z2, y)\n",
    "    loss = loss1 + loss2\n",
    "    print(f\"loss1: {loss1.item():.4f}, loss2: {loss2.item():.4f}, loss: {loss.item():.4f}\")\n",
    "    \n",
    "    optimizer.zero_grad()\n",
    "    loss.backward()\n",
    "    optimizer.step()"
   ]
  }
 ],
 "metadata": {
  "kernelspec": {
   "display_name": "myol",
   "language": "python",
   "name": "python3"
  },
  "language_info": {
   "codemirror_mode": {
    "name": "ipython",
    "version": 3
   },
   "file_extension": ".py",
   "mimetype": "text/x-python",
   "name": "python",
   "nbconvert_exporter": "python",
   "pygments_lexer": "ipython3",
   "version": "3.8.16"
  },
  "orig_nbformat": 4
 },
 "nbformat": 4,
 "nbformat_minor": 2
}
